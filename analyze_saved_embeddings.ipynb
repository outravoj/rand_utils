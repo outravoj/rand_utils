{
 "cells": [
  {
   "cell_type": "code",
   "execution_count": 1,
   "outputs": [],
   "source": [
    "import torch\n",
    "import torch.optim as optim\n",
    "import pickle\n",
    "from library_models import *\n",
    "from library_data import *\n",
    "import numpy as np\n",
    "from torch.utils.tensorboard import SummaryWriter"
   ],
   "metadata": {
    "collapsed": false,
    "pycharm": {
     "name": "#%%\n"
    }
   }
  },
  {
   "cell_type": "code",
   "execution_count": 4,
   "outputs": [],
   "source": [
    "class Fakeargs:\n",
    "    pass\n",
    "args = Fakeargs()\n",
    "args.model = \"Jodie\"\n",
    "args.network = \"public_dataset_ready_reduced\"\n",
    "args.gpu = -1\n",
    "args.embedding_dim = 8\n",
    "args.train_proportion = 0.8\n",
    "args.state_change = True\n",
    "args.epoch = 3\n",
    "args.datapath = \"data/%s.csv\" % args.network"
   ],
   "metadata": {
    "collapsed": false,
    "pycharm": {
     "name": "#%%\n"
    }
   }
  },
  {
   "cell_type": "code",
   "execution_count": 5,
   "outputs": [
    {
     "name": "stdout",
     "output_type": "stream",
     "text": [
      "\n",
      "\n",
      "**** Loading public_dataset_ready_reduced network from file: data/public_dataset_ready_reduced.csv ****\n",
      "Formating item sequence\n",
      "Formating user sequence\n",
      "Scaling timestamps\n",
      "*** Network loading completed ***\n",
      "\n",
      "\n",
      "*** Network statistics:\n",
      "  39 users\n",
      "  43 items\n",
      "  253973 interactions\n",
      "  22215/253973 true labels ***\n",
      "\n",
      "\n",
      "*** Initializing the JODIE model ***\n",
      "Initializing user and item embeddings\n",
      "Initializing user and item RNNs\n",
      "Initializing linear layers\n",
      "*** JODIE initialization complete ***\n",
      "\n",
      "\n",
      "Loading saved embeddings and model: ./saved_models/public_dataset_ready_reduced/checkpoint.Jodie.ep3.tp0.8.pth.tar\n"
     ]
    }
   ],
   "source": [
    "# LOAD NETWORK\n",
    "[user2id, user_sequence_id, user_timediffs_sequence, user_previous_itemid_sequence, \\\n",
    " item2id, item_sequence_id, item_timediffs_sequence, \\\n",
    " timestamp_sequence, \\\n",
    " feature_sequence, \\\n",
    " y_true] = load_network(args)\n",
    "num_interactions = len(user_sequence_id)\n",
    "num_features = len(feature_sequence[0])\n",
    "num_users = len(user2id)\n",
    "num_items = len(item2id) + 1\n",
    "true_labels_ratio = len(y_true)/(sum(y_true)+1)\n",
    "print(\"*** Network statistics:\\n  %d users\\n  %d items\\n  %d interactions\\n  %d/%d true labels ***\\n\\n\" % (num_users, num_items, num_interactions, sum(y_true), len(y_true)))\n",
    "\n",
    "#define parameters of training\n",
    "train_proportion = 0.8\n",
    "\n",
    "# SET TRAIN, VALIDATION, AND TEST BOUNDARIES\n",
    "train_end_idx = validation_start_idx = int(num_interactions * args.train_proportion)\n",
    "test_start_idx = int(num_interactions * (args.train_proportion + 0.1))\n",
    "test_end_idx = int(num_interactions * (args.train_proportion + 0.2))\n",
    "\n",
    "# SET BATCHING TIMESPAN\n",
    "'''\n",
    "Timespan indicates how frequently the model is run and updated.\n",
    "All interactions in one timespan are processed simultaneously.\n",
    "Longer timespans mean more interactions are processed and the training time is reduced, however it requires more GPU memory.\n",
    "At the end of each timespan, the model is updated as well. So, longer timespan means less frequent model updates.\n",
    "'''\n",
    "timespan = timestamp_sequence[-1] - timestamp_sequence[0]\n",
    "tbatch_timespan = timespan / 500\n",
    "\n",
    "# INITIALIZE MODEL PARAMETERS\n",
    "model = JODIE(args, num_features, num_users, num_items).cuda()\n",
    "weight = torch.Tensor([1,true_labels_ratio]).cuda()\n",
    "crossEntropyLoss = nn.CrossEntropyLoss(weight=weight)\n",
    "MSELoss = nn.MSELoss()\n",
    "\n",
    "# INITIALIZE MODEL\n",
    "learning_rate = 1e-3\n",
    "optimizer = optim.Adam(model.parameters(), lr=learning_rate, weight_decay=1e-5)\n",
    "\n",
    "# LOAD THE MODEL\n",
    "model, optimizer, user_embeddings_dystat, item_embeddings_dystat, user_embeddings_timeseries, item_embeddings_timeseries, train_end_idx_training = load_model(model, optimizer, args, args.epoch)"
   ],
   "metadata": {
    "collapsed": false,
    "pycharm": {
     "name": "#%%\n"
    }
   }
  },
  {
   "cell_type": "code",
   "execution_count": 28,
   "outputs": [
    {
     "name": "stdout",
     "output_type": "stream",
     "text": [
      "['user: 32: 0/53', 'user: 18: 0/54', 'user: 29: 0/65', 'user: 24: 0/75', 'user: 1: 0/20912', 'user: 12: 3293/4782', 'user: 6: 0/324', 'user: 16: 0/582']\n"
     ]
    }
   ],
   "source": [
    "#pick 5 random users and track their dynamic embeddings\n",
    "random_users =  np.random.randint(0,max(user_sequence_id),size=8) #np.array([10,13,16,21,26])#\n",
    "user_labels = {user:np.array(y_true)[np.where(user_sequence_id==user)[0]] for user in random_users} #get labels of each interaction for this user\n",
    "print([f\"user: {user}: {sum(user_labels[user])}/{len(user_labels[user])}\" for user in user_labels.keys()])\n",
    "user_embeddings={user:user_embeddings_timeseries[np.where(user_sequence_id==user)[0],:] for user in random_users} #get series of user embeddings"
   ],
   "metadata": {
    "collapsed": false,
    "pycharm": {
     "name": "#%%\n"
    }
   }
  },
  {
   "cell_type": "code",
   "execution_count": 29,
   "outputs": [],
   "source": [
    "#Create deltas for user embedding sequences (euclidian distances between embeddings)\n",
    "deltas_dict = {}\n",
    "for user,embeddings in user_embeddings.items():\n",
    "    delta_series = np.array(embeddings.shape[0]-1,dtype=float)\n",
    "    embeddings_shifted = np.copy(embeddings.cpu())[1:,:]\n",
    "    deltas = np.linalg.norm(embeddings.cpu()[:-1,:]-embeddings_shifted, axis=1)\n",
    "    deltas_dict[user] = deltas\n"
   ],
   "metadata": {
    "collapsed": false,
    "pycharm": {
     "name": "#%%\n"
    }
   }
  },
  {
   "cell_type": "code",
   "execution_count": 30,
   "outputs": [],
   "source": [
    "with open(\"data/reduced_dataset_attack_labels\",\"rb\") as fp:\n",
    "    attack_labels = pickle.load(fp) #load attack category labels for this dataset\n",
    "cats = {}\n",
    "for user in random_users:\n",
    "    cats[user]=[attack_labels[i] for i in np.where(user_sequence_id==user)[0]]"
   ],
   "metadata": {
    "collapsed": false,
    "pycharm": {
     "name": "#%%\n"
    }
   }
  },
  {
   "cell_type": "code",
   "execution_count": 31,
   "outputs": [],
   "source": [
    "metada = []\n",
    "for user,embeddings in user_embeddings.items(): #prepare metada for tensorboard\n",
    "    for i in range(embeddings.shape[0]):\n",
    "        metada.append(f\"user_{user}_{i}_label_{user_labels[user][i]}_{cats[user][i]}\\n\")"
   ],
   "metadata": {
    "collapsed": false,
    "pycharm": {
     "name": "#%%\n"
    }
   }
  },
  {
   "cell_type": "code",
   "execution_count": 32,
   "outputs": [],
   "source": [
    "embeddings = torch.cat([item for key,item in user_embeddings.items()], dim=0)"
   ],
   "metadata": {
    "collapsed": false,
    "pycharm": {
     "name": "#%%\n"
    }
   }
  },
  {
   "cell_type": "code",
   "execution_count": 33,
   "outputs": [],
   "source": [
    "writer = SummaryWriter()\n",
    "writer.add_embedding(embeddings,metadata=metada)\n",
    "for user,deltas in deltas_dict.items():\n",
    "    for i in range(deltas.shape[0]):\n",
    "        writer.add_scalar(str(user), deltas[i],i)"
   ],
   "metadata": {
    "collapsed": false,
    "pycharm": {
     "name": "#%%\n"
    }
   }
  },
  {
   "cell_type": "code",
   "execution_count": 34,
   "outputs": [],
   "source": [
    "writer.close()"
   ],
   "metadata": {
    "collapsed": false,
    "pycharm": {
     "name": "#%%\n"
    }
   }
  },
  {
   "cell_type": "code",
   "execution_count": null,
   "outputs": [],
   "source": [],
   "metadata": {
    "collapsed": false,
    "pycharm": {
     "name": "#%%\n"
    }
   }
  }
 ],
 "metadata": {
  "kernelspec": {
   "display_name": "Python 3",
   "language": "python",
   "name": "python3"
  },
  "language_info": {
   "codemirror_mode": {
    "name": "ipython",
    "version": 2
   },
   "file_extension": ".py",
   "mimetype": "text/x-python",
   "name": "python",
   "nbconvert_exporter": "python",
   "pygments_lexer": "ipython2",
   "version": "2.7.6"
  }
 },
 "nbformat": 4,
 "nbformat_minor": 0
}