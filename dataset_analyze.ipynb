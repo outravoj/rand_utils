{
 "cells": [
  {
   "cell_type": "code",
   "execution_count": 18,
   "outputs": [
    {
     "name": "stderr",
     "output_type": "stream",
     "text": [
      "C:\\Users\\outra\\AppData\\Local\\Temp\\ipykernel_9992\\2952253272.py:7: DtypeWarning: Columns (16,17,36,40) have mixed types. Specify dtype option on import or set low_memory=False.\n",
      "  df = pd.read_csv(\"data/public_dataset.csv\")\n"
     ]
    }
   ],
   "source": [
    "import pandas as pd\n",
    "import numpy as np\n",
    "import pickle\n",
    "from category_encoders import TargetEncoder\n",
    "from collections import Counter\n",
    "import numpy as np\n",
    "df = pd.read_csv(\"data/public_dataset.csv\")"
   ],
   "metadata": {
    "collapsed": false,
    "pycharm": {
     "name": "#%%\n"
    }
   }
  },
  {
   "cell_type": "code",
   "execution_count": 19,
   "outputs": [
    {
     "name": "stdout",
     "output_type": "stream",
     "text": [
      "The ratio of labels is: 0.12648702957071267\n",
      "The length of the dataset is: 2540047\n",
      "The number of srcip is: 43\n",
      "The number of dstip is: 47\n"
     ]
    }
   ],
   "source": [
    "labels = df[\"Label\"].to_list()\n",
    "print(f\"The ratio of labels is: {sum(labels)/len(labels)}\")\n",
    "print(f\"The length of the dataset is: {len(labels)}\")\n",
    "print(f\"The number of srcip is: {len(set(df['srcip'].to_list()))}\")\n",
    "print(f\"The number of dstip is: {len(set(df['dstip'].to_list()))}\")"
   ],
   "metadata": {
    "collapsed": false,
    "pycharm": {
     "name": "#%%\n"
    }
   }
  },
  {
   "cell_type": "code",
   "execution_count": 20,
   "outputs": [
    {
     "name": "stdout",
     "output_type": "stream",
     "text": [
      "The time span is: 2334654\n"
     ]
    }
   ],
   "source": [
    "print(f\"The time span is: {df['Stime'].to_list()[-1]-df['Stime'].to_list()[0]}\")\n",
    "start = df['Stime'].to_list()[0]"
   ],
   "metadata": {
    "collapsed": false,
    "pycharm": {
     "name": "#%%\n"
    }
   }
  },
  {
   "cell_type": "code",
   "execution_count": 21,
   "outputs": [
    {
     "name": "stdout",
     "output_type": "stream",
     "text": [
      "{'Reconnaissance', 'Generic', 'Worms', 'Backdoors', 'Analysis', 'Exploits', ' Fuzzers ', ' Reconnaissance ', 'Backdoor', ' Shellcode ', 'Shellcode', ' Fuzzers', 'DoS'}\n"
     ]
    }
   ],
   "source": [
    "print(set(df[df['Label'] == 1][\"attack_cat\"].to_list()))"
   ],
   "metadata": {
    "collapsed": false,
    "pycharm": {
     "name": "#%%\n"
    }
   }
  },
  {
   "cell_type": "code",
   "execution_count": 22,
   "outputs": [
    {
     "name": "stdout",
     "output_type": "stream",
     "text": [
      "321283\n",
      "Counter({'Generic': 215481, 'Exploits': 44525, ' Fuzzers ': 19195, 'DoS': 16353, ' Reconnaissance ': 12228, ' Fuzzers': 5051, 'Analysis': 2677, 'Backdoor': 1795, 'Reconnaissance': 1759, ' Shellcode ': 1288, 'Backdoors': 534, 'Shellcode': 223, 'Worms': 174})\n",
      "321283\n"
     ]
    }
   ],
   "source": [
    "l = np.nan_to_num(df[df['Label'] == 1][\"attack_cat\"].to_list())\n",
    "print(len(l))\n",
    "print(Counter(l))\n",
    "print(sum(Counter(l).values()))"
   ],
   "metadata": {
    "collapsed": false,
    "pycharm": {
     "name": "#%%\n"
    }
   }
  },
  {
   "cell_type": "code",
   "execution_count": 23,
   "outputs": [],
   "source": [
    "df[\"Stime\"] = df[\"Stime\"]-start\n",
    "df[\"Ltime\"] = df[\"Ltime\"]-start"
   ],
   "metadata": {
    "collapsed": false,
    "pycharm": {
     "name": "#%%\n"
    }
   }
  },
  {
   "cell_type": "code",
   "execution_count": 24,
   "outputs": [
    {
     "name": "stdout",
     "output_type": "stream",
     "text": [
      "Number of different services: 13\n",
      "Number of different proto: 135\n",
      "Number of different state: 16\n"
     ]
    }
   ],
   "source": [
    "#numbers of cat_columns\n",
    "print(f\"Number of different services: {len(set(df['service'].to_list()))}\")\n",
    "print(f\"Number of different proto: {len(set(df['proto'].to_list()))}\")\n",
    "print(f\"Number of different state: {len(set(df['state'].to_list()))}\")"
   ],
   "metadata": {
    "collapsed": false,
    "pycharm": {
     "name": "#%%\n"
    }
   }
  },
  {
   "cell_type": "code",
   "execution_count": 25,
   "outputs": [
    {
     "name": "stdout",
     "output_type": "stream",
     "text": [
      "Counter({'tcp': 1495074, 'udp': 990435, 'unas': 16202, 'arp': 10064, 'ospf': 7798, 'sctp': 1525, 'icmp': 524, 'any': 411, 'gre': 324, 'rsvp': 274, 'ipv6': 272, 'sun-nd': 262, 'swipe': 262, 'mobile': 262, 'pim': 262, 'sep': 260, 'ipnip': 137, 'ip': 137, 'ggp': 137, 'st2': 137, 'egp': 137, 'cbt': 137, 'emcon': 137, 'nvp': 137, 'igp': 137, 'xnet': 137, 'argus': 137, 'bbn-rcc': 137, 'chaos': 137, 'pup': 137, 'hmp': 137, 'mux': 137, 'dcn': 137, 'prm': 137, 'trunk-1': 137, 'xns-idp': 137, 'trunk-2': 137, 'leaf-1': 137, 'leaf-2': 137, 'irtp': 137, 'rdp': 137, 'iso-tp4': 137, 'netblt': 137, 'mfe-nsp': 137, 'merit-inp': 137, '3pc': 137, 'xtp': 137, 'idpr': 137, 'tp++': 137, 'ddp': 137, 'idpr-cmtp': 137, 'il': 137, 'idrp': 137, 'ipv6-frag': 137, 'sdrp': 137, 'ipv6-route': 137, 'mhrp': 137, 'bna': 137, 'i-nlsp': 137, 'narp': 137, 'ipv6-no': 137, 'tlsp': 137, 'skip': 137, 'ipv6-opts': 137, 'cftp': 137, 'sat-expak': 137, 'kryptolan': 137, 'rvd': 137, 'ippc': 137, 'sat-mon': 137, 'ipcv': 137, 'visa': 137, 'cpnx': 137, 'cphb': 137, 'wsn': 137, 'pvp': 137, 'br-sat-mon': 137, 'wb-mon': 137, 'wb-expak': 137, 'iso-ip': 137, 'secure-vmtp': 137, 'vmtp': 137, 'vines': 137, 'ttp': 137, 'nsfnet-igp': 137, 'dgp': 137, 'tcf': 137, 'eigrp': 137, 'sprite-rpc': 137, 'larp': 137, 'mtp': 137, 'ax.25': 137, 'ipip': 137, 'micp': 137, 'aes-sp3-d': 137, 'encap': 137, 'etherip': 137, 'pri-enc': 137, 'gmtp': 137, 'pnni': 137, 'ifmp': 137, 'aris': 137, 'qnx': 137, 'a/n': 137, 'scps': 137, 'snp': 137, 'ipcomp': 137, 'compaq-peer': 137, 'ipx-n-ip': 137, 'vrrp': 137, 'zero': 137, 'pgm': 137, 'iatp': 137, 'ddx': 137, 'l2tp': 137, 'srp': 137, 'stp': 137, 'smp': 137, 'uti': 137, 'sm': 137, 'ptp': 137, 'fire': 137, 'crtp': 137, 'isis': 137, 'crudp': 137, 'sccopmce': 137, 'sps': 137, 'pipe': 137, 'iplt': 137, 'fc': 137, 'ib': 137, 'igmp': 64, 'udt': 8, 'rtp': 7, 'esp': 2})\n"
     ]
    }
   ],
   "source": [
    "print(Counter(df[\"proto\"].tolist()))"
   ],
   "metadata": {
    "collapsed": false,
    "pycharm": {
     "name": "#%%\n"
    }
   }
  },
  {
   "cell_type": "code",
   "execution_count": 26,
   "outputs": [
    {
     "name": "stdout",
     "output_type": "stream",
     "text": [
      "Counter({'-': 1246397, 'dns': 781668, 'http': 206273, 'ftp-data': 125783, 'smtp': 81645, 'ftp': 49090, 'ssh': 47160, 'pop3': 1533, 'dhcp': 172, 'ssl': 142, 'snmp': 113, 'radius': 40, 'irc': 31})\n"
     ]
    }
   ],
   "source": [
    "print(Counter(df[\"service\"].tolist()))"
   ],
   "metadata": {
    "collapsed": false,
    "pycharm": {
     "name": "#%%\n"
    }
   }
  },
  {
   "cell_type": "code",
   "execution_count": 27,
   "outputs": [
    {
     "name": "stderr",
     "output_type": "stream",
     "text": [
      "C:\\Users\\outra\\PycharmProjects\\jodie\\venv\\lib\\site-packages\\category_encoders\\target_encoder.py:92: FutureWarning: Default parameter min_samples_leaf will change in version 2.6.See https://github.com/scikit-learn-contrib/category_encoders/issues/327\n",
      "  warnings.warn(\"Default parameter min_samples_leaf will change in version 2.6.\"\n",
      "C:\\Users\\outra\\PycharmProjects\\jodie\\venv\\lib\\site-packages\\category_encoders\\target_encoder.py:97: FutureWarning: Default parameter smoothing will change in version 2.6.See https://github.com/scikit-learn-contrib/category_encoders/issues/327\n",
      "  warnings.warn(\"Default parameter smoothing will change in version 2.6.\"\n"
     ]
    }
   ],
   "source": [
    " #creating instance of one-hot-encoder\n",
    "cat_columns_targeted = [\"proto\"]\n",
    "cat_columns_onehot = ['service','state']\n",
    "\n",
    "#perform categorical encoding - one hot is too computationally expensive for protocol so I chose Tareted encoding\n",
    "cat_encoder = TargetEncoder(cols=cat_columns_targeted)\n",
    "final_df = cat_encoder.fit_transform(df,y=labels)\n",
    "final_df = pd.get_dummies(final_df, columns=cat_columns_onehot)"
   ],
   "metadata": {
    "collapsed": false,
    "pycharm": {
     "name": "#%%\n"
    }
   }
  },
  {
   "cell_type": "code",
   "execution_count": 28,
   "outputs": [
    {
     "name": "stdout",
     "output_type": "stream",
     "text": [
      "The dbytes is convertible to numeric in ratio: 1.0\n",
      "The ct_srv_dst is convertible to numeric in ratio: 1.0\n",
      "The tcprtt is convertible to numeric in ratio: 1.0\n",
      "The dtcpb is convertible to numeric in ratio: 1.0\n",
      "The swin is convertible to numeric in ratio: 1.0\n",
      "The smeansz is convertible to numeric in ratio: 1.0\n",
      "The Djit is convertible to numeric in ratio: 1.0\n",
      "The ackdat is convertible to numeric in ratio: 1.0\n",
      "The dur is convertible to numeric in ratio: 1.0\n",
      "The sttl is convertible to numeric in ratio: 1.0\n",
      "The proto is convertible to numeric in ratio: 1.0\n",
      "The attack_cat is convertible to numeric in ratio: 0.0\n",
      "The dsport is convertible to numeric in ratio: 0.9998803171752334\n",
      "The Dpkts is convertible to numeric in ratio: 1.0\n",
      "The ct_dst_sport_ltm is convertible to numeric in ratio: 1.0\n",
      "The trans_depth is convertible to numeric in ratio: 1.0\n",
      "The dwin is convertible to numeric in ratio: 1.0\n",
      "The Dload is convertible to numeric in ratio: 1.0\n",
      "The Sjit is convertible to numeric in ratio: 1.0\n",
      "The ct_state_ttl is convertible to numeric in ratio: 1.0\n",
      "The synack is convertible to numeric in ratio: 1.0\n",
      "The Sintpkt is convertible to numeric in ratio: 1.0\n",
      "The Dintpkt is convertible to numeric in ratio: 1.0\n",
      "The dloss is convertible to numeric in ratio: 1.0\n",
      "The is_sm_ips_ports is convertible to numeric in ratio: 1.0\n",
      "The Sload is convertible to numeric in ratio: 1.0\n",
      "The ct_dst_src_ltm is convertible to numeric in ratio: 1.0\n",
      "The sloss is convertible to numeric in ratio: 1.0\n",
      "The sbytes is convertible to numeric in ratio: 1.0\n",
      "The ct_flw_http_mthd is convertible to numeric in ratio: 0.4692440730427429\n",
      "The ct_srv_src is convertible to numeric in ratio: 1.0\n",
      "The sport is convertible to numeric in ratio: 0.9999968504519798\n",
      "The Spkts is convertible to numeric in ratio: 1.0\n",
      "The dmeansz is convertible to numeric in ratio: 1.0\n",
      "The ct_dst_ltm is convertible to numeric in ratio: 1.0\n",
      "The ct_ftp_cmd is convertible to numeric in ratio: 0.4370659283076258\n",
      "The is_ftp_login is convertible to numeric in ratio: 0.4370659283076258\n",
      "The ct_src_ ltm is convertible to numeric in ratio: 1.0\n",
      "The stcpb is convertible to numeric in ratio: 1.0\n",
      "The Ltime is convertible to numeric in ratio: 1.0\n",
      "The res_bdy_len is convertible to numeric in ratio: 1.0\n",
      "The ct_src_dport_ltm is convertible to numeric in ratio: 1.0\n",
      "The dttl is convertible to numeric in ratio: 1.0\n",
      "The service_- is convertible to numeric in ratio: 1.0\n",
      "The service_dhcp is convertible to numeric in ratio: 1.0\n",
      "The service_dns is convertible to numeric in ratio: 1.0\n",
      "The service_ftp is convertible to numeric in ratio: 1.0\n",
      "The service_ftp-data is convertible to numeric in ratio: 1.0\n",
      "The service_http is convertible to numeric in ratio: 1.0\n",
      "The service_irc is convertible to numeric in ratio: 1.0\n",
      "The service_pop3 is convertible to numeric in ratio: 1.0\n",
      "The service_radius is convertible to numeric in ratio: 1.0\n",
      "The service_smtp is convertible to numeric in ratio: 1.0\n",
      "The service_snmp is convertible to numeric in ratio: 1.0\n",
      "The service_ssh is convertible to numeric in ratio: 1.0\n",
      "The service_ssl is convertible to numeric in ratio: 1.0\n",
      "The state_ACC is convertible to numeric in ratio: 1.0\n",
      "The state_CLO is convertible to numeric in ratio: 1.0\n",
      "The state_CON is convertible to numeric in ratio: 1.0\n",
      "The state_ECO is convertible to numeric in ratio: 1.0\n",
      "The state_ECR is convertible to numeric in ratio: 1.0\n",
      "The state_FIN is convertible to numeric in ratio: 1.0\n",
      "The state_INT is convertible to numeric in ratio: 1.0\n",
      "The state_MAS is convertible to numeric in ratio: 1.0\n",
      "The state_PAR is convertible to numeric in ratio: 1.0\n",
      "The state_REQ is convertible to numeric in ratio: 1.0\n",
      "The state_RST is convertible to numeric in ratio: 1.0\n",
      "The state_TST is convertible to numeric in ratio: 1.0\n",
      "The state_TXD is convertible to numeric in ratio: 1.0\n",
      "The state_URH is convertible to numeric in ratio: 1.0\n",
      "The state_URN is convertible to numeric in ratio: 1.0\n",
      "The state_no is convertible to numeric in ratio: 1.0\n"
     ]
    }
   ],
   "source": [
    "for column in final_df.columns[4:]:\n",
    "    correct = pd.to_numeric(final_df[column], errors='coerce').notnull()\n",
    "    print(f\"The {column} is convertible to numeric in ratio: {sum(correct)/len(correct)}\")"
   ],
   "metadata": {
    "collapsed": false,
    "pycharm": {
     "name": "#%%\n"
    }
   }
  },
  {
   "cell_type": "code",
   "execution_count": 29,
   "outputs": [],
   "source": [
    "# Based on number above we drop some columns and get rid of dsport and sport invalid entries\n",
    "final_df.drop(columns=[\"ct_flw_http_mthd\", \"ct_ftp_cmd\", \"is_ftp_login\"],inplace= True)\n",
    "final_df = final_df[pd.to_numeric(final_df[\"dsport\"], errors='coerce').notnull()]\n",
    "final_df = final_df[pd.to_numeric(final_df[\"sport\"], errors='coerce').notnull()]"
   ],
   "metadata": {
    "collapsed": false,
    "pycharm": {
     "name": "#%%\n"
    }
   }
  },
  {
   "cell_type": "code",
   "execution_count": 30,
   "outputs": [
    {
     "name": "stdout",
     "output_type": "stream",
     "text": [
      "2539739\n"
     ]
    }
   ],
   "source": [
    "print(len(final_df))\n",
    "final_df.rename({\"srcip\" :\"user_id\", \"dstip\" :\"item_id\", \"Stime\" :\"timestamp\", \"Label\":\"state_label\"});"
   ],
   "metadata": {
    "collapsed": false,
    "pycharm": {
     "name": "#%%\n"
    }
   }
  },
  {
   "cell_type": "code",
   "execution_count": 31,
   "outputs": [],
   "source": [
    "#final_df.to_csv(\"data/public_dataset_ready.csv\",index = False)"
   ],
   "metadata": {
    "collapsed": false,
    "pycharm": {
     "name": "#%%\n"
    }
   }
  },
  {
   "cell_type": "code",
   "execution_count": 33,
   "outputs": [
    {
     "name": "stderr",
     "output_type": "stream",
     "text": [
      "C:\\Users\\outra\\AppData\\Local\\Temp\\ipykernel_9992\\1290529228.py:4: SettingWithCopyWarning: \n",
      "A value is trying to be set on a copy of a slice from a DataFrame\n",
      "\n",
      "See the caveats in the documentation: https://pandas.pydata.org/pandas-docs/stable/user_guide/indexing.html#returning-a-view-versus-a-copy\n",
      "  final_df_reduced.drop(columns=[\"attack_cat\" ], inplace=True)\n"
     ]
    }
   ],
   "source": [
    "percent_of_interactions = 0.4\n",
    "final_df_reduced = final_df[[True]*int(len(final_df)*percent_of_interactions)+[False]*(len(final_df)-int(len(final_df)*percent_of_interactions))]\n",
    "attack_cats = np.nan_to_num(final_df_reduced[\"attack_cat\"].to_list())\n",
    "final_df_reduced.drop(columns=[\"attack_cat\" ], inplace=True)\n",
    "final_df_reduced.to_csv(f\"data/public_dataset_ready_{percent_of_interactions}p.csv\",index = False)"
   ],
   "metadata": {
    "collapsed": false,
    "pycharm": {
     "name": "#%%\n"
    }
   }
  },
  {
   "cell_type": "code",
   "execution_count": 34,
   "outputs": [
    {
     "name": "stdout",
     "output_type": "stream",
     "text": [
      "Counter({'nan': 993680, 'Generic': 7522, 'Exploits': 5409, ' Fuzzers': 5051, 'Reconnaissance': 1759, 'DoS': 1167, 'Backdoors': 534, 'Analysis': 526, 'Shellcode': 223, 'Worms': 24})\n"
     ]
    }
   ],
   "source": [
    "print(Counter(attack_cats))"
   ],
   "metadata": {
    "collapsed": false,
    "pycharm": {
     "name": "#%%\n"
    }
   }
  },
  {
   "cell_type": "code",
   "execution_count": 35,
   "outputs": [],
   "source": [
    "with open(\"data/reduced_dataset_attack_labels\", \"wb\") as fp:   #Pickling\n",
    "    pickle.dump(attack_cats, fp)"
   ],
   "metadata": {
    "collapsed": false,
    "pycharm": {
     "name": "#%%\n"
    }
   }
  },
  {
   "cell_type": "code",
   "execution_count": null,
   "outputs": [],
   "source": [],
   "metadata": {
    "collapsed": false,
    "pycharm": {
     "name": "#%%\n"
    }
   }
  },
  {
   "cell_type": "markdown",
   "source": [],
   "metadata": {
    "collapsed": false,
    "pycharm": {
     "name": "#%% md\n"
    }
   }
  }
 ],
 "metadata": {
  "kernelspec": {
   "display_name": "Python 3",
   "language": "python",
   "name": "python3"
  },
  "language_info": {
   "codemirror_mode": {
    "name": "ipython",
    "version": 2
   },
   "file_extension": ".py",
   "mimetype": "text/x-python",
   "name": "python",
   "nbconvert_exporter": "python",
   "pygments_lexer": "ipython2",
   "version": "2.7.6"
  }
 },
 "nbformat": 4,
 "nbformat_minor": 0
}