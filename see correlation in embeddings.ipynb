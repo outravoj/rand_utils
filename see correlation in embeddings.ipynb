{
 "cells": [
  {
   "cell_type": "code",
   "execution_count": 1,
   "metadata": {
    "collapsed": true,
    "pycharm": {
     "name": "#%%\n"
    }
   },
   "outputs": [],
   "source": [
    "import torch\n",
    "import torch.optim as optim\n",
    "import pickle\n",
    "from library_models import *\n",
    "from library_data import *\n",
    "import numpy as np\n",
    "from torch.utils.tensorboard import SummaryWriter\n",
    "from sklearn.metrics.pairwise import euclidean_distances\n",
    "import seaborn as sns"
   ]
  },
  {
   "cell_type": "code",
   "execution_count": 2,
   "outputs": [],
   "source": [
    "class Fakeargs:\n",
    "    pass\n",
    "args = Fakeargs()\n",
    "args.model = \"Jodie\"\n",
    "args.network = \"public_dataset_ready_reduced\"\n",
    "args.gpu = -1\n",
    "args.embedding_dim = 8\n",
    "args.train_proportion = 0.8\n",
    "args.state_change = True\n",
    "args.epoch = 3\n",
    "args.datapath = \"data/%s.csv\" % args.network"
   ],
   "metadata": {
    "collapsed": false,
    "pycharm": {
     "name": "#%%\n"
    }
   }
  },
  {
   "cell_type": "code",
   "execution_count": 3,
   "outputs": [
    {
     "name": "stdout",
     "output_type": "stream",
     "text": [
      "\n",
      "\n",
      "**** Loading public_dataset_ready_reduced network from file: data/public_dataset_ready_reduced.csv ****\n",
      "Formating item sequence\n",
      "Formating user sequence\n",
      "Scaling timestamps\n",
      "*** Network loading completed ***\n",
      "\n",
      "\n",
      "*** Network statistics:\n",
      "  39 users\n",
      "  43 items\n",
      "  253973 interactions\n",
      "  22215/253973 true labels ***\n",
      "\n",
      "\n",
      "*** Initializing the JODIE model ***\n",
      "Initializing user and item embeddings\n",
      "Initializing user and item RNNs\n",
      "Initializing linear layers\n",
      "*** JODIE initialization complete ***\n",
      "\n",
      "\n",
      "Loading saved embeddings and model: ./saved_models/public_dataset_ready_reduced/checkpoint.Jodie.ep3.tp0.8.pth.tar\n"
     ]
    }
   ],
   "source": [
    "# LOAD NETWORK\n",
    "[user2id, user_sequence_id, user_timediffs_sequence, user_previous_itemid_sequence, \\\n",
    " item2id, item_sequence_id, item_timediffs_sequence, \\\n",
    " timestamp_sequence, \\\n",
    " feature_sequence, \\\n",
    " y_true] = load_network(args)\n",
    "num_interactions = len(user_sequence_id)\n",
    "num_features = len(feature_sequence[0])\n",
    "num_users = len(user2id)\n",
    "num_items = len(item2id) + 1\n",
    "true_labels_ratio = len(y_true)/(sum(y_true)+1)\n",
    "print(\"*** Network statistics:\\n  %d users\\n  %d items\\n  %d interactions\\n  %d/%d true labels ***\\n\\n\" % (num_users, num_items, num_interactions, sum(y_true), len(y_true)))\n",
    "\n",
    "#define parameters of training\n",
    "train_proportion = 0.8\n",
    "\n",
    "# SET TRAIN, VALIDATION, AND TEST BOUNDARIES\n",
    "train_end_idx = validation_start_idx = int(num_interactions * args.train_proportion)\n",
    "test_start_idx = int(num_interactions * (args.train_proportion + 0.1))\n",
    "test_end_idx = int(num_interactions * (args.train_proportion + 0.2))\n",
    "\n",
    "# SET BATCHING TIMESPAN\n",
    "'''\n",
    "Timespan indicates how frequently the model is run and updated.\n",
    "All interactions in one timespan are processed simultaneously.\n",
    "Longer timespans mean more interactions are processed and the training time is reduced, however it requires more GPU memory.\n",
    "At the end of each timespan, the model is updated as well. So, longer timespan means less frequent model updates.\n",
    "'''\n",
    "timespan = timestamp_sequence[-1] - timestamp_sequence[0]\n",
    "tbatch_timespan = timespan / 500\n",
    "\n",
    "# INITIALIZE MODEL PARAMETERS\n",
    "model = JODIE(args, num_features, num_users, num_items).cuda()\n",
    "weight = torch.Tensor([1,true_labels_ratio]).cuda()\n",
    "crossEntropyLoss = nn.CrossEntropyLoss(weight=weight)\n",
    "MSELoss = nn.MSELoss()\n",
    "\n",
    "# INITIALIZE MODEL\n",
    "learning_rate = 1e-3\n",
    "optimizer = optim.Adam(model.parameters(), lr=learning_rate, weight_decay=1e-5)\n",
    "\n",
    "# LOAD THE MODEL\n",
    "model, optimizer, user_embeddings_dystat, item_embeddings_dystat, user_embeddings_timeseries, item_embeddings_timeseries, train_end_idx_training = load_model(model, optimizer, args, args.epoch)"
   ],
   "metadata": {
    "collapsed": false,
    "pycharm": {
     "name": "#%%\n"
    }
   }
  },
  {
   "cell_type": "code",
   "execution_count": 8,
   "outputs": [
    {
     "name": "stdout",
     "output_type": "stream",
     "text": [
      "33\n",
      "torch.Size([80, 8])\n"
     ]
    }
   ],
   "source": [
    "USER = 33 # np.random.randint(0, max(user_sequence_id))\n",
    "print(USER)\n",
    "user_embeddings = user_embeddings_timeseries[np.where(np.array(user_sequence_id)==USER)[0],:]\n",
    "print(user_embeddings.shape)"
   ],
   "metadata": {
    "collapsed": false,
    "pycharm": {
     "name": "#%%\n"
    }
   }
  },
  {
   "cell_type": "code",
   "execution_count": 9,
   "outputs": [
    {
     "data": {
      "text/plain": "<AxesSubplot:>"
     },
     "execution_count": 9,
     "metadata": {},
     "output_type": "execute_result"
    },
    {
     "data": {
      "text/plain": "<Figure size 432x288 with 2 Axes>",
      "image/png": "[encoded data removed]"
     },
     "metadata": {
      "needs_background": "light"
     },
     "output_type": "display_data"
    }
   ],
   "source": [
    "sns.heatmap(euclidean_distances(user_embeddings.cpu()))"
   ],
   "metadata": {
    "collapsed": false,
    "pycharm": {
     "name": "#%%\n"
    }
   }
  },
  {
   "cell_type": "markdown",
   "source": [
    "## Results of certain users\n",
    "Users with good results - {18, 33, 23, 24, 29, 4}\n",
    "Users with weird results - {19,}\n",
    "Users with too many interactions - will do downsampling on them next to recover some information"
   ],
   "metadata": {
    "collapsed": false,
    "pycharm": {
     "name": "#%% md\n"
    }
   }
  },
  {
   "cell_type": "code",
   "execution_count": 10,
   "outputs": [],
   "source": [
    "def subsampling_function(user_embeddings):\n",
    "    '''\n",
    "    Subsample if there are too many user embeddings for visialization.\n",
    "    Subsampling is done so that there are around 1000 interactions max.\n",
    "    '''\n",
    "    if user_embeddings.shape[0] < 1500:\n",
    "        print(\"Subsampling not neeeded\")\n",
    "        return user_embeddings\n",
    "    subsampling_factor = int(user_embeddings.shape[0]/1000)\n",
    "    print(f\"Subsampling by a factor of {subsampling_factor}\")\n",
    "    return user_embeddings[::subsampling_factor,:]"
   ],
   "metadata": {
    "collapsed": false,
    "pycharm": {
     "name": "#%%\n"
    }
   }
  },
  {
   "cell_type": "code",
   "execution_count": 11,
   "outputs": [
    {
     "name": "stdout",
     "output_type": "stream",
     "text": [
      "torch.Size([4782, 8])\n",
      "Subsampling by a factor of 4\n",
      "torch.Size([1196, 8])\n"
     ]
    }
   ],
   "source": [
    "#Examples of users with too many interactions = {0,1,2..}\n",
    "USER = 12\n",
    "user_embeddings = user_embeddings_timeseries[np.where(np.array(user_sequence_id)==USER)[0],:]\n",
    "print(user_embeddings.shape)\n",
    "#subsample by every 50th\n",
    "user_embeddings = subsampling_function(user_embeddings)\n",
    "print(user_embeddings.shape)"
   ],
   "metadata": {
    "collapsed": false,
    "pycharm": {
     "name": "#%%\n"
    }
   }
  },
  {
   "cell_type": "code",
   "execution_count": 12,
   "outputs": [
    {
     "data": {
      "text/plain": "<AxesSubplot:>"
     },
     "execution_count": 12,
     "metadata": {},
     "output_type": "execute_result"
    },
    {
     "data": {
      "text/plain": "<Figure size 432x288 with 2 Axes>",
      "image/png": "[encoded data removed]"
     },
     "metadata": {
      "needs_background": "light"
     },
     "output_type": "display_data"
    }
   ],
   "source": [
    "pairwise_dist = euclidean_distances(user_embeddings.cpu())\n",
    "sns.heatmap(pairwise_dist)"
   ],
   "metadata": {
    "collapsed": false,
    "pycharm": {
     "name": "#%%\n"
    }
   }
  },
  {
   "cell_type": "markdown",
   "source": [
    "# Results quick summary\n",
    "The results are similar for users with a lot of interactions as well for users with only limited amount. It seems like the embeddings usually keeps around the same space for untill a while before the end.\n",
    "\n",
    "The phase of comparing embeddings of different users ensues next"
   ],
   "metadata": {
    "collapsed": false,
    "pycharm": {
     "name": "#%% md\n"
    }
   }
  },
  {
   "cell_type": "code",
   "execution_count": 13,
   "outputs": [
    {
     "name": "stdout",
     "output_type": "stream",
     "text": [
      "Subsampling not neeeded\n",
      "Subsampling not neeeded\n",
      "33 6 torch.Size([80, 8]) torch.Size([324, 8])\n"
     ]
    }
   ],
   "source": [
    "#pick two random users\n",
    "rand_user1, rand_user2 = np.random.randint(0, max(user_sequence_id),size=2)\n",
    "#pick out their sequences\n",
    "user1_embeddings = subsampling_function(user_embeddings_timeseries[np.where(np.array(user_sequence_id)==rand_user1)[0],:])\n",
    "user2_embeddings = subsampling_function(user_embeddings_timeseries[np.where(np.array(user_sequence_id)==rand_user2)[0],:])\n",
    "print(rand_user1, rand_user2,user1_embeddings.shape, user2_embeddings.shape)"
   ],
   "metadata": {
    "collapsed": false,
    "pycharm": {
     "name": "#%%\n"
    }
   }
  },
  {
   "cell_type": "code",
   "execution_count": 14,
   "outputs": [
    {
     "data": {
      "text/plain": "<AxesSubplot:>"
     },
     "execution_count": 14,
     "metadata": {},
     "output_type": "execute_result"
    },
    {
     "data": {
      "text/plain": "<Figure size 432x288 with 2 Axes>",
      "image/png": "[encoded data removed]"
     },
     "metadata": {
      "needs_background": "light"
     },
     "output_type": "display_data"
    }
   ],
   "source": [
    "sns.heatmap(euclidean_distances(user1_embeddings.cpu(), user2_embeddings.cpu()))"
   ],
   "metadata": {
    "collapsed": false,
    "pycharm": {
     "name": "#%%\n"
    }
   }
  },
  {
   "cell_type": "markdown",
   "source": [
    "## Results without taking into account the timestamps\n",
    "Good pairs to see various outcomes - [[34,16],[11,30], [6,2],[28,26], [17,12], []]\n",
    "Bad pairs - [[29,32],[21,34]]\n",
    "Next is a section taking into account the timestamps and comparing embeddings in the same timestamp"
   ],
   "metadata": {
    "collapsed": false,
    "pycharm": {
     "name": "#%% md\n"
    }
   }
  },
  {
   "cell_type": "markdown",
   "source": [
    "## Let's pick a given number of timestamps throughout the entire time (I am going to try 50) and track the embeddings of picked assets in these timestamps. The timestamps will be uniformly distributed throughout the timestamps sequence. !!!(which does not imply uniformly distributed in time)!!!"
   ],
   "metadata": {
    "collapsed": false,
    "pycharm": {
     "name": "#%% md\n"
    }
   }
  },
  {
   "cell_type": "code",
   "execution_count": 15,
   "outputs": [
    {
     "name": "stdout",
     "output_type": "stream",
     "text": [
      "51\n",
      "[   0.  185.  406.  601.  774.  957. 1159. 1355. 1566. 1795. 2020. 2234.\n",
      " 2434. 2634. 2835. 3041. 3235. 3339. 3492. 3665. 3849. 4027. 4214. 4404.\n",
      " 4573. 4741. 4914. 5090. 5272. 5465. 5656. 5843. 6052. 6243. 6434. 6660.\n",
      " 6880. 7087. 7303. 7520. 7756. 7958. 8147. 8356. 8570. 8792. 9026. 9269.\n",
      " 9506. 9736. 9969.]\n"
     ]
    }
   ],
   "source": [
    "number_of_timepoints = 50\n",
    "subsampling_factor = int(len(timestamp_sequence)/number_of_timepoints)\n",
    "reduced_timestamps_seq = timestamp_sequence[::subsampling_factor]\n",
    "print(len(reduced_timestamps_seq))\n",
    "print(reduced_timestamps_seq)"
   ],
   "metadata": {
    "collapsed": false,
    "pycharm": {
     "name": "#%%\n"
    }
   }
  },
  {
   "cell_type": "code",
   "execution_count": 16,
   "outputs": [],
   "source": [
    "def pick_the_embeddings(user_embeddings, timestamp_sequence, user_timestamps_sequence):\n",
    "    '''\n",
    "    user_embeddings: user embeddings series\n",
    "    timestamp_sequence: list with timestamps fo required embeddings\n",
    "    user_timestamps_sequence: timestamps of interaction of the user\n",
    "    '''\n",
    "    indexes = set()\n",
    "    ret_embeddings = np.zeros((1,user_embeddings.shape[1]))\n",
    "    for index, timestamp in enumerate(timestamp_sequence):\n",
    "        if timestamp < user_timestamps_sequence[0]:\n",
    "            ret_embeddings = np.vstack((ret_embeddings, user_embeddings[0,:]))\n",
    "            indexes.add(0)\n",
    "        elif timestamp > user_timestamps_sequence[-1]:\n",
    "            ret_embeddings = np.vstack((ret_embeddings, user_embeddings[-1,:]))\n",
    "            indexes.add(user_timestamps_sequence[-1])\n",
    "        else:\n",
    "            for index_user, timestamp_user in enumerate(user_timestamps_sequence[:-1]):\n",
    "                if timestamp_user  <= timestamp <= user_timestamps_sequence[index_user+1]:\n",
    "                    ret_embeddings = np.vstack((ret_embeddings, user_embeddings[index_user,:]))\n",
    "                    indexes.add(timestamp_user)\n",
    "                    break\n",
    "    print(f\"Picked {len(indexes)} embeddings\")\n",
    "    return ret_embeddings[1:,:]"
   ],
   "metadata": {
    "collapsed": false,
    "pycharm": {
     "name": "#%%\n"
    }
   }
  },
  {
   "cell_type": "code",
   "execution_count": 26,
   "outputs": [
    {
     "name": "stdout",
     "output_type": "stream",
     "text": [
      "User 34 has 62 interactions\n",
      "User 29 has 65 interactions\n"
     ]
    }
   ],
   "source": [
    "# choose 2 random users and get the required amount of embeddings\n",
    "rand_user1, rand_user2 = np.random.randint(0, max(user_sequence_id),size=2)\n",
    "user1_embeddings = user_embeddings_timeseries[np.where(np.array(user_sequence_id)==rand_user1)[0],:]\n",
    "user2_embeddings = user_embeddings_timeseries[np.where(np.array(user_sequence_id)==rand_user2)[0],:]\n",
    "print(f\"User {rand_user1} has {user1_embeddings.shape[0]} interactions\")\n",
    "print(f\"User {rand_user2} has {user2_embeddings.shape[0]} interactions\")\n",
    "user1_timestamps = timestamp_sequence[np.where(np.array(user_sequence_id)==rand_user1)[0]]\n",
    "user2_timestamps = timestamp_sequence[np.where(np.array(user_sequence_id)==rand_user2)[0]]"
   ],
   "metadata": {
    "collapsed": false,
    "pycharm": {
     "name": "#%%\n"
    }
   }
  },
  {
   "cell_type": "code",
   "execution_count": 27,
   "outputs": [
    {
     "name": "stdout",
     "output_type": "stream",
     "text": [
      "Picked 18 embeddings\n",
      "Picked 17 embeddings\n"
     ]
    },
    {
     "data": {
      "text/plain": "<AxesSubplot:>"
     },
     "execution_count": 27,
     "metadata": {},
     "output_type": "execute_result"
    },
    {
     "data": {
      "text/plain": "<Figure size 432x288 with 2 Axes>",
      "image/png": "[encoded data removed]"
     },
     "metadata": {
      "needs_background": "light"
     },
     "output_type": "display_data"
    }
   ],
   "source": [
    "user1_timestamps_embeddings = pick_the_embeddings(user1_embeddings.cpu(), reduced_timestamps_seq, user1_timestamps)\n",
    "user2_timestamps_embeddings = pick_the_embeddings(user2_embeddings.cpu(), reduced_timestamps_seq, user2_timestamps)\n",
    "dist_matrix = euclidean_distances(user1_timestamps_embeddings, user2_timestamps_embeddings)\n",
    "sns.heatmap(dist_matrix)"
   ],
   "metadata": {
    "collapsed": false,
    "pycharm": {
     "name": "#%%\n"
    }
   }
  },
  {
   "cell_type": "code",
   "execution_count": 23,
   "outputs": [
    {
     "name": "stdout",
     "output_type": "stream",
     "text": [
      "The euclidian similarity measure over timestamps is: 12.247448504309734\n"
     ]
    }
   ],
   "source": [
    " 1 print(f\"The euclidian similarity measure over timestamps is: {np.sum(np.diag(dist_matrix))}\")"
   ],
   "metadata": {
    "collapsed": false,
    "pycharm": {
     "name": "#%%\n"
    }
   }
  },
  {
   "cell_type": "code",
   "execution_count": null,
   "outputs": [],
   "source": [],
   "metadata": {
    "collapsed": false,
    "pycharm": {
     "name": "#%%\n"
    }
   }
  }
 ],
 "metadata": {
  "kernelspec": {
   "display_name": "Python 3",
   "language": "python",
   "name": "python3"
  },
  "language_info": {
   "codemirror_mode": {
    "name": "ipython",
    "version": 2
   },
   "file_extension": ".py",
   "mimetype": "text/x-python",
   "name": "python",
   "nbconvert_exporter": "python",
   "pygments_lexer": "ipython2",
   "version": "2.7.6"
  }
 },
 "nbformat": 4,
 "nbformat_minor": 0
}